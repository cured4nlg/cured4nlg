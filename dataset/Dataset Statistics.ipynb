{
 "cells": [
  {
   "cell_type": "code",
   "execution_count": 1,
   "id": "e3aff7d4",
   "metadata": {},
   "outputs": [],
   "source": [
    "import nltk\n",
    "import os\n",
    "import pandas as pd"
   ]
  },
  {
   "cell_type": "markdown",
   "id": "c4b339c3",
   "metadata": {},
   "source": [
    "## Table dimensions"
   ]
  },
  {
   "cell_type": "code",
   "execution_count": 2,
   "id": "beab8415",
   "metadata": {},
   "outputs": [],
   "source": [
    "TABLE_DIR = './data/tables'\n",
    "\n",
    "table_shapes = dict()\n",
    "\n",
    "for file in os.listdir(TABLE_DIR):\n",
    "    if not file.endswith('.tsv'):\n",
    "        continue\n",
    "    \n",
    "    table_shapes[file] = pd.read_csv(os.path.join(TABLE_DIR, file), sep='\\t').shape"
   ]
  },
  {
   "cell_type": "code",
   "execution_count": 3,
   "id": "4fb70168",
   "metadata": {},
   "outputs": [
    {
     "data": {
      "text/plain": [
       "(7, 62, 33.28214285714286)"
      ]
     },
     "execution_count": 3,
     "metadata": {},
     "output_type": "execute_result"
    }
   ],
   "source": [
    "min_rows = min(shape[0] for shape in table_shapes.values())\n",
    "max_rows = max(shape[0] for shape in table_shapes.values())\n",
    "avg_rows = sum(shape[0] for shape in table_shapes.values()) / len(table_shapes)\n",
    "\n",
    "min_rows, max_rows, avg_rows"
   ]
  },
  {
   "cell_type": "code",
   "execution_count": 4,
   "id": "799451c6",
   "metadata": {},
   "outputs": [
    {
     "data": {
      "text/plain": [
       "(7, 9, 7.864285714285714)"
      ]
     },
     "execution_count": 4,
     "metadata": {},
     "output_type": "execute_result"
    }
   ],
   "source": [
    "min_cols = min(shape[1] for shape in table_shapes.values())\n",
    "max_cols = max(shape[1] for shape in table_shapes.values())\n",
    "avg_cols = sum(shape[1] for shape in table_shapes.values()) / len(table_shapes)\n",
    "\n",
    "min_cols, max_cols, avg_cols"
   ]
  },
  {
   "cell_type": "code",
   "execution_count": 5,
   "id": "46454566",
   "metadata": {},
   "outputs": [
    {
     "data": {
      "text/plain": [
       "(49, 496, 265.2785714285714)"
      ]
     },
     "execution_count": 5,
     "metadata": {},
     "output_type": "execute_result"
    }
   ],
   "source": [
    "min_cols = min(shape[0]*shape[1] for shape in table_shapes.values())\n",
    "max_cols = max(shape[0]*shape[1] for shape in table_shapes.values())\n",
    "avg_cols = sum(shape[0]*shape[1] for shape in table_shapes.values()) / len(table_shapes)\n",
    "\n",
    "min_cols, max_cols, avg_cols"
   ]
  },
  {
   "cell_type": "markdown",
   "id": "0af3d206",
   "metadata": {},
   "source": [
    "## Document lengths"
   ]
  },
  {
   "cell_type": "code",
   "execution_count": 6,
   "id": "97ff8fca",
   "metadata": {},
   "outputs": [],
   "source": [
    "TEXTS_DIR = './data/texts'\n",
    "\n",
    "text_lengths = dict()\n",
    "\n",
    "for file in os.listdir(TEXTS_DIR):\n",
    "    if not file.endswith('.txt'):\n",
    "        continue\n",
    "    \n",
    "    lines = ''.join([line for line in open(os.path.join(TEXTS_DIR, file), 'r')])\n",
    "    text_lengths[file] = len(nltk.word_tokenize(lines))"
   ]
  },
  {
   "cell_type": "code",
   "execution_count": 7,
   "id": "c6d94009",
   "metadata": {},
   "outputs": [
    {
     "data": {
      "text/plain": [
       "(63, 643, 249.75)"
      ]
     },
     "execution_count": 7,
     "metadata": {},
     "output_type": "execute_result"
    }
   ],
   "source": [
    "min_len = min(text_lengths.values())\n",
    "max_len = max(text_lengths.values())\n",
    "avg_len = sum(text_lengths.values()) / len(text_lengths)\n",
    "\n",
    "min_len, max_len, avg_len"
   ]
  },
  {
   "cell_type": "markdown",
   "id": "f210f3ed",
   "metadata": {},
   "source": [
    "## Tokens and Types"
   ]
  },
  {
   "cell_type": "code",
   "execution_count": 8,
   "id": "540c7077",
   "metadata": {},
   "outputs": [],
   "source": [
    "with open('train.src') as f:\n",
    "  train_src = f.readlines()\n",
    "with open('train.trg') as f:\n",
    "  train_trg = f.readlines()\n",
    "\n",
    "train_src = list(map(lambda s: s.strip(), train_src))\n",
    "train_trg = list(map(lambda s: s.strip(), train_trg))"
   ]
  },
  {
   "cell_type": "code",
   "execution_count": 9,
   "id": "a142dcf5",
   "metadata": {},
   "outputs": [],
   "source": [
    "with open('valid.src') as f:\n",
    "  valid_src = f.readlines()\n",
    "with open('valid.trg') as f:\n",
    "  valid_trg = f.readlines()\n",
    "\n",
    "valid_src = list(map(lambda s: s.strip(), valid_src))\n",
    "valid_trg = list(map(lambda s: s.strip(), valid_trg))"
   ]
  },
  {
   "cell_type": "code",
   "execution_count": 10,
   "id": "a297d441",
   "metadata": {},
   "outputs": [],
   "source": [
    "with open('test.src') as f:\n",
    "  test_src = f.readlines()\n",
    "with open('test.trg') as f:\n",
    "  test_trg = f.readlines()\n",
    "\n",
    "test_src = list(map(lambda s: s.strip(), test_src))\n",
    "test_trg = list(map(lambda s: s.strip(), test_trg))"
   ]
  },
  {
   "cell_type": "code",
   "execution_count": 11,
   "id": "b3935ac5",
   "metadata": {},
   "outputs": [
    {
     "data": {
      "text/plain": [
       "(210, 210, 21, 21, 49, 49)"
      ]
     },
     "execution_count": 11,
     "metadata": {},
     "output_type": "execute_result"
    }
   ],
   "source": [
    "len(train_src), len(train_trg), len(valid_src), len(valid_trg), len(test_src), len(test_trg)"
   ]
  },
  {
   "cell_type": "code",
   "execution_count": 12,
   "id": "50bd3a5d",
   "metadata": {},
   "outputs": [
    {
     "data": {
      "text/plain": [
       "(56250, 3711, 267.85714285714283)"
      ]
     },
     "execution_count": 12,
     "metadata": {},
     "output_type": "execute_result"
    }
   ],
   "source": [
    "train_tokens = []\n",
    "train_lengths = []\n",
    "\n",
    "for text in train_trg:\n",
    "    tokens = nltk.word_tokenize(text.lower())\n",
    "\n",
    "    train_tokens.extend(tokens)\n",
    "    train_lengths.append(len(tokens))\n",
    "    \n",
    "len(train_tokens), len(set(train_tokens)), sum(train_lengths) / len(train_lengths)"
   ]
  },
  {
   "cell_type": "code",
   "execution_count": 13,
   "id": "5fac3997",
   "metadata": {},
   "outputs": [
    {
     "data": {
      "text/plain": [
       "(4103, 478, 195.38095238095238)"
      ]
     },
     "execution_count": 13,
     "metadata": {},
     "output_type": "execute_result"
    }
   ],
   "source": [
    "valid_tokens = []\n",
    "valid_lengths = []\n",
    "\n",
    "for text in valid_trg:\n",
    "    tokens = nltk.word_tokenize(text.lower())\n",
    "\n",
    "    valid_tokens.extend(tokens)\n",
    "    valid_lengths.append(len(tokens))\n",
    "    \n",
    "len(valid_tokens), len(set(valid_tokens)), sum(valid_lengths) / len(valid_lengths)"
   ]
  },
  {
   "cell_type": "code",
   "execution_count": 14,
   "id": "dd997002",
   "metadata": {},
   "outputs": [
    {
     "data": {
      "text/plain": [
       "(9555, 869, 195.0)"
      ]
     },
     "execution_count": 14,
     "metadata": {},
     "output_type": "execute_result"
    }
   ],
   "source": [
    "test_tokens = []\n",
    "test_lengths = []\n",
    "\n",
    "for text in test_trg:\n",
    "    tokens = nltk.word_tokenize(text.lower())\n",
    "\n",
    "    test_tokens.extend(tokens)\n",
    "    test_lengths.append(len(tokens))\n",
    "    \n",
    "len(test_tokens), len(set(test_tokens)), sum(test_lengths) / len(test_lengths)"
   ]
  },
  {
   "cell_type": "markdown",
   "id": "42723bfe",
   "metadata": {},
   "source": [
    "## Cleaned Texts"
   ]
  },
  {
   "cell_type": "code",
   "execution_count": 15,
   "id": "97ef9064",
   "metadata": {},
   "outputs": [],
   "source": [
    "with open('train.src') as f:\n",
    "  train_src = f.readlines()\n",
    "with open('train-clean.trg') as f:\n",
    "  train_trg = f.readlines()\n",
    "\n",
    "train_src = list(map(lambda s: s.strip(), train_src))\n",
    "train_trg = list(map(lambda s: s.strip(), train_trg))"
   ]
  },
  {
   "cell_type": "code",
   "execution_count": 16,
   "id": "6ec0c634",
   "metadata": {},
   "outputs": [],
   "source": [
    "with open('valid.src') as f:\n",
    "  valid_src = f.readlines()\n",
    "with open('valid-clean.trg') as f:\n",
    "  valid_trg = f.readlines()\n",
    "\n",
    "valid_src = list(map(lambda s: s.strip(), valid_src))\n",
    "valid_trg = list(map(lambda s: s.strip(), valid_trg))"
   ]
  },
  {
   "cell_type": "code",
   "execution_count": 17,
   "id": "f748323f",
   "metadata": {},
   "outputs": [],
   "source": [
    "with open('test.src') as f:\n",
    "  test_src = f.readlines()\n",
    "with open('test-clean.trg') as f:\n",
    "  test_trg = f.readlines()\n",
    "\n",
    "test_src = list(map(lambda s: s.strip(), test_src))\n",
    "test_trg = list(map(lambda s: s.strip(), test_trg))"
   ]
  },
  {
   "cell_type": "code",
   "execution_count": 18,
   "id": "4651e2fc",
   "metadata": {},
   "outputs": [
    {
     "data": {
      "text/plain": [
       "(210, 210, 21, 21, 49, 49)"
      ]
     },
     "execution_count": 18,
     "metadata": {},
     "output_type": "execute_result"
    }
   ],
   "source": [
    "len(train_src), len(train_trg), len(valid_src), len(valid_trg), len(test_src), len(test_trg)"
   ]
  },
  {
   "cell_type": "code",
   "execution_count": 19,
   "id": "3af10e93",
   "metadata": {},
   "outputs": [
    {
     "data": {
      "text/plain": [
       "(43526, 2243, 207.26666666666668)"
      ]
     },
     "execution_count": 19,
     "metadata": {},
     "output_type": "execute_result"
    }
   ],
   "source": [
    "train_tokens = []\n",
    "train_lengths = []\n",
    "\n",
    "for text in train_trg:\n",
    "    tokens = nltk.word_tokenize(text.lower())\n",
    "\n",
    "    train_tokens.extend(tokens)\n",
    "    train_lengths.append(len(tokens))\n",
    "    \n",
    "len(train_tokens), len(set(train_tokens)), sum(train_lengths) / len(train_lengths)"
   ]
  },
  {
   "cell_type": "code",
   "execution_count": 20,
   "id": "cc510fee",
   "metadata": {},
   "outputs": [
    {
     "data": {
      "text/plain": [
       "(4091, 476, 194.8095238095238)"
      ]
     },
     "execution_count": 20,
     "metadata": {},
     "output_type": "execute_result"
    }
   ],
   "source": [
    "valid_tokens = []\n",
    "valid_lengths = []\n",
    "\n",
    "for text in valid_trg:\n",
    "    tokens = nltk.word_tokenize(text.lower())\n",
    "\n",
    "    valid_tokens.extend(tokens)\n",
    "    valid_lengths.append(len(tokens))\n",
    "    \n",
    "len(valid_tokens), len(set(valid_tokens)), sum(valid_lengths) / len(valid_lengths)"
   ]
  },
  {
   "cell_type": "code",
   "execution_count": 21,
   "id": "de84c656",
   "metadata": {},
   "outputs": [
    {
     "data": {
      "text/plain": [
       "(9506, 869, 194.0)"
      ]
     },
     "execution_count": 21,
     "metadata": {},
     "output_type": "execute_result"
    }
   ],
   "source": [
    "test_tokens = []\n",
    "test_lengths = []\n",
    "\n",
    "for text in test_trg:\n",
    "    tokens = nltk.word_tokenize(text.lower())\n",
    "\n",
    "    test_tokens.extend(tokens)\n",
    "    test_lengths.append(len(tokens))\n",
    "    \n",
    "len(test_tokens), len(set(test_tokens)), sum(test_lengths) / len(test_lengths)"
   ]
  }
 ],
 "metadata": {
  "kernelspec": {
   "display_name": "Python 3",
   "language": "python",
   "name": "python3"
  },
  "language_info": {
   "codemirror_mode": {
    "name": "ipython",
    "version": 3
   },
   "file_extension": ".py",
   "mimetype": "text/x-python",
   "name": "python",
   "nbconvert_exporter": "python",
   "pygments_lexer": "ipython3",
   "version": "3.7.10"
  }
 },
 "nbformat": 4,
 "nbformat_minor": 5
}
